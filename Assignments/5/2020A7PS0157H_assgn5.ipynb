{
 "cells": [
  {
   "cell_type": "code",
   "execution_count": null,
   "id": "6650a8a6",
   "metadata": {},
   "outputs": [],
   "source": [
    "import csv\n",
    "import math\n",
    "import pandas as pd\n",
    "import numpy as np\n",
    "import matplotlib.pyplot as plt\n",
    "import warnings\n",
    "from sklearn.datasets import make_blobs\n",
    "from sklearn.metrics import silhouette_score"
   ]
  },
  {
   "cell_type": "code",
   "execution_count": 3,
   "id": "cd262f63",
   "metadata": {},
   "outputs": [],
   "source": [
    "dp=pd.read_csv('housing.csv')"
   ]
  },
  {
   "cell_type": "code",
   "execution_count": 4,
   "id": "3446203c",
   "metadata": {},
   "outputs": [
    {
     "data": {
      "text/html": [
       "<div>\n",
       "<style scoped>\n",
       "    .dataframe tbody tr th:only-of-type {\n",
       "        vertical-align: middle;\n",
       "    }\n",
       "\n",
       "    .dataframe tbody tr th {\n",
       "        vertical-align: top;\n",
       "    }\n",
       "\n",
       "    .dataframe thead th {\n",
       "        text-align: right;\n",
       "    }\n",
       "</style>\n",
       "<table border=\"1\" class=\"dataframe\">\n",
       "  <thead>\n",
       "    <tr style=\"text-align: right;\">\n",
       "      <th></th>\n",
       "      <th>MedianIncome</th>\n",
       "      <th>HouseAge</th>\n",
       "      <th>AveRooms</th>\n",
       "      <th>AveBedrms</th>\n",
       "      <th>Population</th>\n",
       "      <th>AveOccup</th>\n",
       "      <th>Latitude</th>\n",
       "      <th>Longitude</th>\n",
       "      <th>MedianHouseValue</th>\n",
       "    </tr>\n",
       "  </thead>\n",
       "  <tbody>\n",
       "    <tr>\n",
       "      <th>0</th>\n",
       "      <td>8.3252</td>\n",
       "      <td>41</td>\n",
       "      <td>6.984127</td>\n",
       "      <td>1.023810</td>\n",
       "      <td>322</td>\n",
       "      <td>2.555556</td>\n",
       "      <td>37.88</td>\n",
       "      <td>-122.23</td>\n",
       "      <td>4.526</td>\n",
       "    </tr>\n",
       "    <tr>\n",
       "      <th>1</th>\n",
       "      <td>8.3014</td>\n",
       "      <td>21</td>\n",
       "      <td>6.238137</td>\n",
       "      <td>0.971880</td>\n",
       "      <td>2401</td>\n",
       "      <td>2.109842</td>\n",
       "      <td>37.86</td>\n",
       "      <td>-122.22</td>\n",
       "      <td>3.585</td>\n",
       "    </tr>\n",
       "    <tr>\n",
       "      <th>2</th>\n",
       "      <td>7.2574</td>\n",
       "      <td>52</td>\n",
       "      <td>8.288136</td>\n",
       "      <td>1.073446</td>\n",
       "      <td>496</td>\n",
       "      <td>2.802260</td>\n",
       "      <td>37.85</td>\n",
       "      <td>-122.24</td>\n",
       "      <td>3.521</td>\n",
       "    </tr>\n",
       "    <tr>\n",
       "      <th>3</th>\n",
       "      <td>5.6431</td>\n",
       "      <td>52</td>\n",
       "      <td>5.817352</td>\n",
       "      <td>1.073059</td>\n",
       "      <td>558</td>\n",
       "      <td>2.547945</td>\n",
       "      <td>37.85</td>\n",
       "      <td>-122.25</td>\n",
       "      <td>3.413</td>\n",
       "    </tr>\n",
       "    <tr>\n",
       "      <th>4</th>\n",
       "      <td>3.8462</td>\n",
       "      <td>52</td>\n",
       "      <td>6.281853</td>\n",
       "      <td>1.081081</td>\n",
       "      <td>565</td>\n",
       "      <td>2.181467</td>\n",
       "      <td>37.85</td>\n",
       "      <td>-122.25</td>\n",
       "      <td>3.422</td>\n",
       "    </tr>\n",
       "    <tr>\n",
       "      <th>...</th>\n",
       "      <td>...</td>\n",
       "      <td>...</td>\n",
       "      <td>...</td>\n",
       "      <td>...</td>\n",
       "      <td>...</td>\n",
       "      <td>...</td>\n",
       "      <td>...</td>\n",
       "      <td>...</td>\n",
       "      <td>...</td>\n",
       "    </tr>\n",
       "    <tr>\n",
       "      <th>20635</th>\n",
       "      <td>1.5603</td>\n",
       "      <td>25</td>\n",
       "      <td>5.045455</td>\n",
       "      <td>1.133333</td>\n",
       "      <td>845</td>\n",
       "      <td>2.560606</td>\n",
       "      <td>39.48</td>\n",
       "      <td>-121.09</td>\n",
       "      <td>0.781</td>\n",
       "    </tr>\n",
       "    <tr>\n",
       "      <th>20636</th>\n",
       "      <td>2.5568</td>\n",
       "      <td>18</td>\n",
       "      <td>6.114035</td>\n",
       "      <td>1.315789</td>\n",
       "      <td>356</td>\n",
       "      <td>3.122807</td>\n",
       "      <td>39.49</td>\n",
       "      <td>-121.21</td>\n",
       "      <td>0.771</td>\n",
       "    </tr>\n",
       "    <tr>\n",
       "      <th>20637</th>\n",
       "      <td>1.7000</td>\n",
       "      <td>17</td>\n",
       "      <td>5.205543</td>\n",
       "      <td>1.120092</td>\n",
       "      <td>1007</td>\n",
       "      <td>2.325635</td>\n",
       "      <td>39.43</td>\n",
       "      <td>-121.22</td>\n",
       "      <td>0.923</td>\n",
       "    </tr>\n",
       "    <tr>\n",
       "      <th>20638</th>\n",
       "      <td>1.8672</td>\n",
       "      <td>18</td>\n",
       "      <td>5.329513</td>\n",
       "      <td>1.171920</td>\n",
       "      <td>741</td>\n",
       "      <td>2.123209</td>\n",
       "      <td>39.43</td>\n",
       "      <td>-121.32</td>\n",
       "      <td>0.847</td>\n",
       "    </tr>\n",
       "    <tr>\n",
       "      <th>20639</th>\n",
       "      <td>2.3886</td>\n",
       "      <td>16</td>\n",
       "      <td>5.254717</td>\n",
       "      <td>1.162264</td>\n",
       "      <td>1387</td>\n",
       "      <td>2.616981</td>\n",
       "      <td>39.37</td>\n",
       "      <td>-121.24</td>\n",
       "      <td>0.894</td>\n",
       "    </tr>\n",
       "  </tbody>\n",
       "</table>\n",
       "<p>20640 rows × 9 columns</p>\n",
       "</div>"
      ],
      "text/plain": [
       "       MedianIncome  HouseAge  AveRooms  AveBedrms  Population  AveOccup  \\\n",
       "0            8.3252        41  6.984127   1.023810         322  2.555556   \n",
       "1            8.3014        21  6.238137   0.971880        2401  2.109842   \n",
       "2            7.2574        52  8.288136   1.073446         496  2.802260   \n",
       "3            5.6431        52  5.817352   1.073059         558  2.547945   \n",
       "4            3.8462        52  6.281853   1.081081         565  2.181467   \n",
       "...             ...       ...       ...        ...         ...       ...   \n",
       "20635        1.5603        25  5.045455   1.133333         845  2.560606   \n",
       "20636        2.5568        18  6.114035   1.315789         356  3.122807   \n",
       "20637        1.7000        17  5.205543   1.120092        1007  2.325635   \n",
       "20638        1.8672        18  5.329513   1.171920         741  2.123209   \n",
       "20639        2.3886        16  5.254717   1.162264        1387  2.616981   \n",
       "\n",
       "       Latitude  Longitude  MedianHouseValue  \n",
       "0         37.88    -122.23             4.526  \n",
       "1         37.86    -122.22             3.585  \n",
       "2         37.85    -122.24             3.521  \n",
       "3         37.85    -122.25             3.413  \n",
       "4         37.85    -122.25             3.422  \n",
       "...         ...        ...               ...  \n",
       "20635     39.48    -121.09             0.781  \n",
       "20636     39.49    -121.21             0.771  \n",
       "20637     39.43    -121.22             0.923  \n",
       "20638     39.43    -121.32             0.847  \n",
       "20639     39.37    -121.24             0.894  \n",
       "\n",
       "[20640 rows x 9 columns]"
      ]
     },
     "execution_count": 4,
     "metadata": {},
     "output_type": "execute_result"
    }
   ],
   "source": [
    "print(dp)"
   ]
  },
  {
   "cell_type": "code",
   "execution_count": 7,
   "id": "bf5301b3",
   "metadata": {},
   "outputs": [
    {
     "data": {
      "text/html": [
       "<div>\n",
       "<style scoped>\n",
       "    .dataframe tbody tr th:only-of-type {\n",
       "        vertical-align: middle;\n",
       "    }\n",
       "\n",
       "    .dataframe tbody tr th {\n",
       "        vertical-align: top;\n",
       "    }\n",
       "\n",
       "    .dataframe thead th {\n",
       "        text-align: right;\n",
       "    }\n",
       "</style>\n",
       "<table border=\"1\" class=\"dataframe\">\n",
       "  <thead>\n",
       "    <tr style=\"text-align: right;\">\n",
       "      <th></th>\n",
       "      <th>MedianHouseValue</th>\n",
       "      <th>Latitude</th>\n",
       "      <th>Longitude</th>\n",
       "    </tr>\n",
       "  </thead>\n",
       "  <tbody>\n",
       "    <tr>\n",
       "      <th>0</th>\n",
       "      <td>4.526</td>\n",
       "      <td>37.88</td>\n",
       "      <td>-122.23</td>\n",
       "    </tr>\n",
       "    <tr>\n",
       "      <th>1</th>\n",
       "      <td>3.585</td>\n",
       "      <td>37.86</td>\n",
       "      <td>-122.22</td>\n",
       "    </tr>\n",
       "    <tr>\n",
       "      <th>2</th>\n",
       "      <td>3.521</td>\n",
       "      <td>37.85</td>\n",
       "      <td>-122.24</td>\n",
       "    </tr>\n",
       "    <tr>\n",
       "      <th>3</th>\n",
       "      <td>3.413</td>\n",
       "      <td>37.85</td>\n",
       "      <td>-122.25</td>\n",
       "    </tr>\n",
       "    <tr>\n",
       "      <th>4</th>\n",
       "      <td>3.422</td>\n",
       "      <td>37.85</td>\n",
       "      <td>-122.25</td>\n",
       "    </tr>\n",
       "    <tr>\n",
       "      <th>...</th>\n",
       "      <td>...</td>\n",
       "      <td>...</td>\n",
       "      <td>...</td>\n",
       "    </tr>\n",
       "    <tr>\n",
       "      <th>20635</th>\n",
       "      <td>0.781</td>\n",
       "      <td>39.48</td>\n",
       "      <td>-121.09</td>\n",
       "    </tr>\n",
       "    <tr>\n",
       "      <th>20636</th>\n",
       "      <td>0.771</td>\n",
       "      <td>39.49</td>\n",
       "      <td>-121.21</td>\n",
       "    </tr>\n",
       "    <tr>\n",
       "      <th>20637</th>\n",
       "      <td>0.923</td>\n",
       "      <td>39.43</td>\n",
       "      <td>-121.22</td>\n",
       "    </tr>\n",
       "    <tr>\n",
       "      <th>20638</th>\n",
       "      <td>0.847</td>\n",
       "      <td>39.43</td>\n",
       "      <td>-121.32</td>\n",
       "    </tr>\n",
       "    <tr>\n",
       "      <th>20639</th>\n",
       "      <td>0.894</td>\n",
       "      <td>39.37</td>\n",
       "      <td>-121.24</td>\n",
       "    </tr>\n",
       "  </tbody>\n",
       "</table>\n",
       "<p>20640 rows × 3 columns</p>\n",
       "</div>"
      ],
      "text/plain": [
       "       MedianHouseValue  Latitude  Longitude\n",
       "0                 4.526     37.88    -122.23\n",
       "1                 3.585     37.86    -122.22\n",
       "2                 3.521     37.85    -122.24\n",
       "3                 3.413     37.85    -122.25\n",
       "4                 3.422     37.85    -122.25\n",
       "...                 ...       ...        ...\n",
       "20635             0.781     39.48    -121.09\n",
       "20636             0.771     39.49    -121.21\n",
       "20637             0.923     39.43    -121.22\n",
       "20638             0.847     39.43    -121.32\n",
       "20639             0.894     39.37    -121.24\n",
       "\n",
       "[20640 rows x 3 columns]"
      ]
     },
     "execution_count": 7,
     "metadata": {},
     "output_type": "execute_result"
    }
   ],
   "source": [
    "X = dp[[\"MedianHouseValue\",\"Latitude\",\"Longitude\"]]\n",
    "print(X)"
   ]
  },
  {
   "cell_type": "code",
   "execution_count": null,
   "id": "f9b4797b",
   "metadata": {},
   "outputs": [],
   "source": [
    "Y=X"
   ]
  },
  {
   "cell_type": "code",
   "execution_count": 9,
   "id": "50f6d848",
   "metadata": {},
   "outputs": [],
   "source": [
    "def solve(k):\n",
    "\tCentroids = (X.sample(n=k))\n",
    "\tdiff = 1\n",
    "\tj=0\n",
    "\titera=0\n",
    "\twhile(diff!=0):\n",
    "\t\tif(itera==15):\n",
    "\t\t\tbreak\n",
    "\t\tXD=X\n",
    "\t\ti=1\n",
    "\t\tfor index1,row_c in Centroids.iterrows():\n",
    "\t\t\tclose=[]\n",
    "\t\t\tfor index2,row_d in XD.iterrows():\n",
    "\t\t\t\td1=(row_c[\"MedianHouseValue\"]-row_d[\"MedianHouseValue\"])**2\n",
    "\t\t\t\td2=(row_c[\"Latitude\"]-row_d[\"Latitude\"])**2\n",
    "\t\t\t\td3=(row_c[\"Longitude\"]-row_d[\"Longitude\"])**2\n",
    "\t\t\t\td=np.sqrt(d1+d2+d3)\n",
    "\t\t\t\tclose.append(d)\n",
    "\t\t\tX[i]=close\n",
    "\t\t\ti=i+1\n",
    "\t\tC=[]\n",
    "\t\tfor index,row in X.iterrows():\n",
    "\t\t\tmin_dist=row[1]\n",
    "\t\t\tpos=1\n",
    "\t\t\tfor i in range(k):\n",
    "\t\t\t\tif row[i+1] < min_dist:\n",
    "\t\t\t\t\tmin_dist = row[i+1]\n",
    "\t\t\t\t\tpos=i+1\n",
    "\t\t\tC.append(pos)\n",
    "\t\tX[\"Cluster\"]=C\n",
    "\t\tCentroids_new = X.groupby([\"Cluster\"]).mean()[[\"MedianHouseValue\",\"Latitude\",\"Longitude\"]]\n",
    "\t\tif j == 0:\n",
    "\t\t\tdiff=1\n",
    "\t\t\tj=j+1\n",
    "\t\telse:\n",
    "\t\t\tdiff = (Centroids_new['MedianHouseValue'] - Centroids['MedianHouseValue']).sum() + (Centroids_new['Latitude'] - Centroids['Latitude']).sum()+(Centroids_new['Longitude'] - Centroids['Longitude']).sum()\n",
    "\t\t\t\n",
    "\t\tCentroids = X.groupby([\"Cluster\"]).mean()[[\"MedianHouseValue\",\"Latitude\",\"Longitude\"]]\n",
    "\t\titera=itera+1\n"
   ]
  },
  {
   "cell_type": "code",
   "execution_count": null,
   "id": "8e967b1e",
   "metadata": {},
   "outputs": [],
   "source": [
    "\n",
    "warnings.filterwarnings('ignore')"
   ]
  },
  {
   "cell_type": "code",
   "execution_count": 11,
   "id": "e1f46e98",
   "metadata": {},
   "outputs": [
    {
     "name": "stdout",
     "output_type": "stream",
     "text": [
      "WHEN VALUE OF K IS 2\n",
      "in Cluster number 1 number of points is 8698\n",
      "in Cluster number 2 number of points is 11942\n",
      "WHEN VALUE OF K IS 3\n",
      "in Cluster number 1 number of points is 11170\n",
      "in Cluster number 2 number of points is 1819\n",
      "in Cluster number 3 number of points is 7651\n",
      "WHEN VALUE OF K IS 4\n",
      "in Cluster number 1 number of points is 8505\n",
      "in Cluster number 2 number of points is 2707\n",
      "in Cluster number 3 number of points is 1792\n",
      "in Cluster number 4 number of points is 7636\n",
      "WHEN VALUE OF K IS 5\n",
      "in Cluster number 1 number of points is 1724\n",
      "in Cluster number 2 number of points is 8480\n",
      "in Cluster number 3 number of points is 3196\n",
      "in Cluster number 4 number of points is 2721\n",
      "in Cluster number 5 number of points is 4519\n",
      "WHEN VALUE OF K IS 6\n",
      "in Cluster number 1 number of points is 1545\n",
      "in Cluster number 2 number of points is 8492\n",
      "in Cluster number 3 number of points is 3671\n",
      "in Cluster number 4 number of points is 2502\n",
      "in Cluster number 5 number of points is 2708\n",
      "in Cluster number 6 number of points is 1722\n"
     ]
    }
   ],
   "source": [
    "count=0\n",
    "\n",
    "erp=[2,3,4,5,6]\n",
    "for i in erp:\n",
    "    solve(i)\n",
    "    count=0\n",
    "    print(\"WHEN VALUE OF K IS \"+str(i))\n",
    "    for r in range(1,i+1):\n",
    "        count=0\n",
    "        for index,row in X.iterrows():\n",
    "            if(row[\"Cluster\"]==r):\n",
    "                count=count+1\n",
    "        print(\"in Cluster number \"+str(r)+\" number of points is \"+str(count))\n",
    "    X=Y\n",
    "            "
   ]
  },
  {
   "cell_type": "code",
   "execution_count": 14,
   "id": "a0b12ba3",
   "metadata": {},
   "outputs": [],
   "source": [
    "from sklearn.cluster import KMeans\n",
    "scor=[]\n",
    "for k in range(2,7):\n",
    "    kmeans = KMeans(n_clusters = k).fit(Y)\n",
    "    labels = kmeans.labels_\n",
    "    scor.append(silhouette_score(Y, labels, metric = 'euclidean'))"
   ]
  },
  {
   "cell_type": "code",
   "execution_count": 15,
   "id": "297d1d02",
   "metadata": {},
   "outputs": [
    {
     "name": "stdout",
     "output_type": "stream",
     "text": [
      "[0.6435345409944606, 0.5538911322926412, 0.536840690762243, 0.5132656997052341, 0.527104213818979]\n"
     ]
    }
   ],
   "source": [
    "print(scor)"
   ]
  },
  {
   "cell_type": "code",
   "execution_count": 16,
   "id": "28f6a1ba",
   "metadata": {},
   "outputs": [
    {
     "data": {
      "image/png": "[encoded data removed]",
      "text/plain": [
       "<Figure size 432x288 with 1 Axes>"
      ]
     },
     "metadata": {
      "needs_background": "light"
     },
     "output_type": "display_data"
    }
   ],
   "source": [
    "\n",
    "y=[2,3,4,5,6]\n",
    "plt.plot(y, scor)\n",
    "plt.show()\n",
    "\n",
    "plt.close()"
   ]
  },
  {
   "cell_type": "code",
   "execution_count": 17,
   "id": "acdaab6d",
   "metadata": {},
   "outputs": [
    {
     "data": {
      "image/png": "[encoded data removed]",
      "text/plain": [
       "<Figure size 432x288 with 1 Axes>"
      ]
     },
     "metadata": {
      "needs_background": "light"
     },
     "output_type": "display_data"
    }
   ],
   "source": [
    "from sklearn.metrics import davies_bouldin_score\n",
    "scor_davies=[]\n",
    "for k in range(2,7):\n",
    "    kmeans = KMeans(n_clusters=k, random_state=30)\n",
    "    labels = kmeans.fit_predict(Y)\n",
    "    scor_davies.append(davies_bouldin_score(X, labels))\n",
    "    \n",
    "plt.plot(y,scor_davies)\n",
    "plt.show()\n",
    "plt.close()"
   ]
  },
  {
   "cell_type": "code",
   "execution_count": null,
   "id": "b96073c4",
   "metadata": {},
   "outputs": [],
   "source": [
    "'''SO K=2 COMES OUT TO BE THE MOST OPTIMAL VALUE,\n",
    "    in silhouette score we see that highest value is at k=2 and in davies bouldin score is lowest at k=2 so 2 is the most optimum value\n",
    "'''\n",
    "%pip install seaborn"
   ]
  },
  {
   "cell_type": "code",
   "execution_count": 19,
   "id": "b746c637",
   "metadata": {},
   "outputs": [],
   "source": [
    "import seaborn as sns"
   ]
  },
  {
   "cell_type": "code",
   "execution_count": 20,
   "id": "12b3f242",
   "metadata": {},
   "outputs": [
    {
     "data": {
      "image/png": "[encoded data removed]",
      "text/plain": [
       "<Figure size 864x432 with 4 Axes>"
      ]
     },
     "metadata": {
      "needs_background": "light"
     },
     "output_type": "display_data"
    }
   ],
   "source": [
    "\n",
    "fig, ax = plt.subplots(2, 2, figsize=(12,6))\n",
    "sns.boxplot(dp.MedianHouseValue, orient='v', ax=ax[0][0])\n",
    "ax[0][0].set_title('MedianHouseValue')\n",
    "ax[0][0].set_ylabel('Values')\n",
    "ax[0][0].set_yticklabels([])\n",
    "ax[0][0].set_xticklabels([])\n",
    "sns.boxplot(dp.Latitude, orient='v', ax=ax[0][1])\n",
    "ax[0][1].set_title('Latitude')\n",
    "ax[0][1].set_ylabel('Values')\n",
    "ax[0][1].set_yticklabels([])\n",
    "ax[0][1].set_xticklabels([])\n",
    "sns.boxplot(dp.Longitude, orient='v', ax=ax[1][0])\n",
    "ax[1][0].set_title('Longitude')\n",
    "ax[1][0].set_ylabel('Values')\n",
    "ax[1][0].set_yticklabels([])\n",
    "ax[1][0].set_xticklabels([])\n",
    "\n",
    "plt.tight_layout()\n",
    "plt.show()"
   ]
  },
  {
   "cell_type": "code",
   "execution_count": 21,
   "id": "63ceed9d",
   "metadata": {},
   "outputs": [],
   "source": [
    "'''We can easily see from the box plots that that the clusters are well separated across the majority of the \"MedianHouseValue\" '''"
   ]
  }
 ],
 "metadata": {
  "kernelspec": {
   "display_name": "Python 3 (ipykernel)",
   "language": "python",
   "name": "python3"
  },
  "language_info": {
   "codemirror_mode": {
    "name": "ipython",
    "version": 3
   },
   "file_extension": ".py",
   "mimetype": "text/x-python",
   "name": "python",
   "nbconvert_exporter": "python",
   "pygments_lexer": "ipython3",
   "version": "3.9.12"
  }
 },
 "nbformat": 4,
 "nbformat_minor": 5
}
