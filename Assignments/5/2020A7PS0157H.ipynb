{
 "cells": [
  {
   "cell_type": "markdown",
   "metadata": {},
   "source": [
    "Implement a k-means clustering algorithm from scratch (using numpy and pandas only). Then use the implemented algorithm on the given dataset with k=2,3,4,5,6. Use the silhouette_score and davies_bouldin_score metrics (you can use the sklearn library for the metrics) to find the optimal value of k.\n",
    "\n",
    "For the given dataset, the target variable is \"MedianHouseValue\".\n",
    "\n",
    "Perform K-means clustering on the features \"MedianIncome\", \"Latitude\", and \"Longitude\" and show that the clusters are well separated across the majority of the \"MedianHouseValue\". Show this using a box plot. Also, report the number of clusters you use for which you are getting this insight.\n"
   ]
  },
  {
   "cell_type": "code",
   "execution_count": null,
   "metadata": {},
   "outputs": [],
   "source": [
    "import csv\n",
    "import math\n",
    "import pandas as pd\n",
    "import numpy as np\n",
    "import matplotlib.pyplot as plt\n",
    "from sklearn.datasets import make_blobs\n",
    "df = pd.read_csv('housing.csv')\n",
    "print(df)"
   ]
  },
  {
   "cell_type": "code",
   "execution_count": null,
   "metadata": {},
   "outputs": [],
   "source": []
  }
 ],
 "metadata": {
  "interpreter": {
   "hash": "820d0c5b45dce294a1235b7537830c47db2bb68d3c777587171b387e99a7b836"
  },
  "kernelspec": {
   "display_name": "Python 3.10.1 64-bit",
   "language": "python",
   "name": "python3"
  },
  "language_info": {
   "codemirror_mode": {
    "name": "ipython",
    "version": 3
   },
   "file_extension": ".py",
   "mimetype": "text/x-python",
   "name": "python",
   "nbconvert_exporter": "python",
   "pygments_lexer": "ipython3",
   "version": "3.10.1"
  },
  "orig_nbformat": 4
 },
 "nbformat": 4,
 "nbformat_minor": 2
}
