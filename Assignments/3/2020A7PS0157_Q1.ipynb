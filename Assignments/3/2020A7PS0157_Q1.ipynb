{
 "cells": [
  {
   "cell_type": "markdown",
   "metadata": {},
   "source": [
    " 1. Design Naive Bayes Classifier from scratch for the given Dataset and find out the accuracy of your model [10M]"
   ]
  },
  {
   "cell_type": "code",
   "execution_count": 12,
   "metadata": {},
   "outputs": [],
   "source": [
    "import csv\n",
    "import math \n",
    "import random\n",
    "#func to get the csv data :\n",
    "def loadCsv(filename):\n",
    "    lines = csv.reader(open(r'D:\\Python_DataMining\\Assignments\\3\\Cars.csv')) \n",
    "    dataset = list(lines) \n",
    "    for i in range (len(dataset)):\n",
    "        dataset[i] = [float(x) for x in dataset[i]] \n",
    "    return dataset\n",
    "#test and train set splitting :\n",
    "def splitDataset(dataset, splitRatio):\n",
    "    trainSize = int(len(dataset) * splitRatio) \n",
    "    trainSet = []\n",
    "    copy = list(dataset) \n",
    "    while len(trainSet) < trainSize: \n",
    "        index = random.randrange(len(copy))\n",
    "        trainSet.append(copy.pop(index)) \n",
    "    return [trainSet, copy]"
   ]
  },
  {
   "cell_type": "code",
   "execution_count": 13,
   "metadata": {},
   "outputs": [],
   "source": [
    "#this code block groups the classes and finds mean and standard deviation\n",
    "def separateByClass(dataset):\n",
    "    separated = {}\n",
    "    for i in range(len(dataset)):\n",
    "        vector = dataset[i] \n",
    "        if (vector[-1] not in separated):\n",
    "            separated[vector[-1]] = [] \n",
    "        separated[vector[-1]].append(vector) \n",
    "    return separated\n",
    "\n",
    "def mean(numbers):\n",
    "    return sum(numbers)/float(len(numbers))\n",
    "\n",
    "def stdev(numbers):\n",
    "    avg = mean(numbers) \n",
    "    variance = sum ([pow(x-avg, 2) for x in numbers]) / float(len(numbers)-1) \n",
    "    return math.sqrt(variance)"
   ]
  },
  {
   "cell_type": "code",
   "execution_count": 14,
   "metadata": {},
   "outputs": [],
   "source": [
    "#This code is to summarize and find the probabilities :\n",
    "def summarize (dataset):\n",
    "    Summaries = [(mean(attribute), stdev(attribute)) for attribute in zip(*dataset)] \n",
    "    del Summaries[-1] \n",
    "    return Summaries\n",
    "\n",
    "def summarizeByClass(dataset):\n",
    "    separated = separateByClass(dataset) \n",
    "    summaries = {} \n",
    "    for classValue, instances in separated.items(): \n",
    "        summaries[classValue] = summarize(instances) \n",
    "    return summaries\n",
    "\n",
    "def calculateProbability(x, mean, stdev):\n",
    "    exponent = math.exp(-(math.Pow(x-mean,2)/(2*math.pow(stdev, 2)))) \n",
    "    return (1/(math.sqrt(2*math.pi)*stdev))*exponent\n",
    "\n"
   ]
  },
  {
   "cell_type": "code",
   "execution_count": 15,
   "metadata": {},
   "outputs": [],
   "source": [
    "def calculateClassProbabilities (summaries, inputVector):\n",
    "    probabilities = {} \n",
    "    for classValue, classSummaries in summaries.items():\n",
    "        probabilities[classValue] = 1 \n",
    "        for i in range(len(classSummaries)):\n",
    "            mean, stdev = classSummaries[i] \n",
    "            x = inputVector[i]\n",
    "            probabilities[classValue] *= calculateProbability(x, mean, stdev) \n",
    "    return probabilities\n",
    "    \n",
    "def predict (summaries, inputVector):\n",
    "    probabilities = calculateClassProbabilities (summaries, inputVector) \n",
    "    bestLabel, bestProb = None, -1 \n",
    "    for classValue, probability in probabilities.items(): \n",
    "        if bestLabel is None or probability > bestProb:\n",
    "            bestProb = probability\n",
    "            bestLabel = classValue \n",
    "    return bestLabel\n",
    "\n"
   ]
  },
  {
   "cell_type": "code",
   "execution_count": 16,
   "metadata": {},
   "outputs": [],
   "source": [
    "def getPredictions (summaries, testSet):\n",
    "    predictions = [] \n",
    "    for i in range(len(testSet)): \n",
    "        result = predict(summaries, testSet[i])\n",
    "        predictions.append(result) \n",
    "    return predictions\n",
    "\n",
    "def getAccuracy(testSet, predictions):\n",
    "    correct = 0 \n",
    "    for x in range(len(testSet)): \n",
    "        if testSet[x][-1] == predictions[x]:\n",
    "            correct += 1 \n",
    "    return (correct/float(len(testSet)))*100.0"
   ]
  },
  {
   "cell_type": "code",
   "execution_count": 20,
   "metadata": {},
   "outputs": [
    {
     "ename": "ValueError",
     "evalue": "could not convert string to float: 'buying'",
     "output_type": "error",
     "traceback": [
      "\u001b[1;31m---------------------------------------------------------------------------\u001b[0m",
      "\u001b[1;31mValueError\u001b[0m                                Traceback (most recent call last)",
      "\u001b[1;32md:\\Python_DataMining\\Assignments\\3\\2020A7PS0157_Q1.ipynb Cell 7'\u001b[0m in \u001b[0;36m<module>\u001b[1;34m\u001b[0m\n\u001b[0;32m     <a href='vscode-notebook-cell:/d%3A/Python_DataMining/Assignments/3/2020A7PS0157_Q1.ipynb#ch0000006?line=10'>11</a>\u001b[0m     accuracy \u001b[39m=\u001b[39m getAccuracy(testSet, predictions) \n\u001b[0;32m     <a href='vscode-notebook-cell:/d%3A/Python_DataMining/Assignments/3/2020A7PS0157_Q1.ipynb#ch0000006?line=11'>12</a>\u001b[0m     \u001b[39mprint\u001b[39m(\u001b[39m'\u001b[39m\u001b[39mAccuracy: \u001b[39m\u001b[39m{0}\u001b[39;00m\u001b[39m%\u001b[39m\u001b[39m'\u001b[39m\u001b[39m.\u001b[39mformat(accuracy))\n\u001b[1;32m---> <a href='vscode-notebook-cell:/d%3A/Python_DataMining/Assignments/3/2020A7PS0157_Q1.ipynb#ch0000006?line=14'>15</a>\u001b[0m main()\n",
      "\u001b[1;32md:\\Python_DataMining\\Assignments\\3\\2020A7PS0157_Q1.ipynb Cell 7'\u001b[0m in \u001b[0;36mmain\u001b[1;34m()\u001b[0m\n\u001b[0;32m      <a href='vscode-notebook-cell:/d%3A/Python_DataMining/Assignments/3/2020A7PS0157_Q1.ipynb#ch0000006?line=1'>2</a>\u001b[0m filename \u001b[39m=\u001b[39m \u001b[39m'\u001b[39m\u001b[39mCars.csv\u001b[39m\u001b[39m'\u001b[39m\n\u001b[0;32m      <a href='vscode-notebook-cell:/d%3A/Python_DataMining/Assignments/3/2020A7PS0157_Q1.ipynb#ch0000006?line=2'>3</a>\u001b[0m splitRatio \u001b[39m=\u001b[39m \u001b[39m0.67\u001b[39m \n\u001b[1;32m----> <a href='vscode-notebook-cell:/d%3A/Python_DataMining/Assignments/3/2020A7PS0157_Q1.ipynb#ch0000006?line=3'>4</a>\u001b[0m dataset \u001b[39m=\u001b[39m loadCsv(filename) \n\u001b[0;32m      <a href='vscode-notebook-cell:/d%3A/Python_DataMining/Assignments/3/2020A7PS0157_Q1.ipynb#ch0000006?line=4'>5</a>\u001b[0m trainingSet, testSet \u001b[39m=\u001b[39m splitDataset (dataset, splitRatio) \n\u001b[0;32m      <a href='vscode-notebook-cell:/d%3A/Python_DataMining/Assignments/3/2020A7PS0157_Q1.ipynb#ch0000006?line=5'>6</a>\u001b[0m \u001b[39mprint\u001b[39m(\u001b[39m'\u001b[39m\u001b[39mSplit \u001b[39m\u001b[39m{0}\u001b[39;00m\u001b[39m rows into train = \u001b[39m\u001b[39m{1}\u001b[39;00m\u001b[39m and test = \u001b[39m\u001b[39m{2}\u001b[39;00m\u001b[39m rows\u001b[39m\u001b[39m'\u001b[39m\u001b[39m.\u001b[39mformat(\u001b[39mlen\u001b[39m(dataset), \u001b[39mlen\u001b[39m(trainingSet), \u001b[39mlen\u001b[39m(testSet))) \n",
      "\u001b[1;32md:\\Python_DataMining\\Assignments\\3\\2020A7PS0157_Q1.ipynb Cell 2'\u001b[0m in \u001b[0;36mloadCsv\u001b[1;34m(filename)\u001b[0m\n\u001b[0;32m      <a href='vscode-notebook-cell:/d%3A/Python_DataMining/Assignments/3/2020A7PS0157_Q1.ipynb#ch0000001?line=6'>7</a>\u001b[0m dataset \u001b[39m=\u001b[39m \u001b[39mlist\u001b[39m(lines) \n\u001b[0;32m      <a href='vscode-notebook-cell:/d%3A/Python_DataMining/Assignments/3/2020A7PS0157_Q1.ipynb#ch0000001?line=7'>8</a>\u001b[0m \u001b[39mfor\u001b[39;00m i \u001b[39min\u001b[39;00m \u001b[39mrange\u001b[39m (\u001b[39mlen\u001b[39m(dataset)):\n\u001b[1;32m----> <a href='vscode-notebook-cell:/d%3A/Python_DataMining/Assignments/3/2020A7PS0157_Q1.ipynb#ch0000001?line=8'>9</a>\u001b[0m     dataset[i] \u001b[39m=\u001b[39m [\u001b[39mfloat\u001b[39m(x) \u001b[39mfor\u001b[39;00m x \u001b[39min\u001b[39;00m dataset[i]] \n\u001b[0;32m     <a href='vscode-notebook-cell:/d%3A/Python_DataMining/Assignments/3/2020A7PS0157_Q1.ipynb#ch0000001?line=9'>10</a>\u001b[0m \u001b[39mreturn\u001b[39;00m dataset\n",
      "\u001b[1;32md:\\Python_DataMining\\Assignments\\3\\2020A7PS0157_Q1.ipynb Cell 2'\u001b[0m in \u001b[0;36m<listcomp>\u001b[1;34m(.0)\u001b[0m\n\u001b[0;32m      <a href='vscode-notebook-cell:/d%3A/Python_DataMining/Assignments/3/2020A7PS0157_Q1.ipynb#ch0000001?line=6'>7</a>\u001b[0m dataset \u001b[39m=\u001b[39m \u001b[39mlist\u001b[39m(lines) \n\u001b[0;32m      <a href='vscode-notebook-cell:/d%3A/Python_DataMining/Assignments/3/2020A7PS0157_Q1.ipynb#ch0000001?line=7'>8</a>\u001b[0m \u001b[39mfor\u001b[39;00m i \u001b[39min\u001b[39;00m \u001b[39mrange\u001b[39m (\u001b[39mlen\u001b[39m(dataset)):\n\u001b[1;32m----> <a href='vscode-notebook-cell:/d%3A/Python_DataMining/Assignments/3/2020A7PS0157_Q1.ipynb#ch0000001?line=8'>9</a>\u001b[0m     dataset[i] \u001b[39m=\u001b[39m [\u001b[39mfloat\u001b[39;49m(x) \u001b[39mfor\u001b[39;00m x \u001b[39min\u001b[39;00m dataset[i]] \n\u001b[0;32m     <a href='vscode-notebook-cell:/d%3A/Python_DataMining/Assignments/3/2020A7PS0157_Q1.ipynb#ch0000001?line=9'>10</a>\u001b[0m \u001b[39mreturn\u001b[39;00m dataset\n",
      "\u001b[1;31mValueError\u001b[0m: could not convert string to float: 'buying'"
     ]
    }
   ],
   "source": [
    "def main():\n",
    "    filename = 'Cars.csv'\n",
    "    splitRatio = 0.67 \n",
    "    dataset = loadCsv(filename) \n",
    "    trainingSet, testSet = splitDataset (dataset, splitRatio) \n",
    "    print('Split {0} rows into train = {1} and test = {2} rows'.format(len(dataset), len(trainingSet), len(testSet))) \n",
    "    #prepare model :\n",
    "    summaries = summarizeByClass(trainingSet) \n",
    "    #test model :\n",
    "    predictions = getPredictions (summaries, testSet)\n",
    "    accuracy = getAccuracy(testSet, predictions) \n",
    "    print('Accuracy: {0}%'.format(accuracy))\n",
    "\n",
    "    \n",
    "main()\n",
    "\n"
   ]
  }
 ],
 "metadata": {
  "interpreter": {
   "hash": "820d0c5b45dce294a1235b7537830c47db2bb68d3c777587171b387e99a7b836"
  },
  "kernelspec": {
   "display_name": "Python 3.10.1 64-bit",
   "language": "python",
   "name": "python3"
  },
  "language_info": {
   "codemirror_mode": {
    "name": "ipython",
    "version": 3
   },
   "file_extension": ".py",
   "mimetype": "text/x-python",
   "name": "python",
   "nbconvert_exporter": "python",
   "pygments_lexer": "ipython3",
   "version": "3.10.1"
  },
  "orig_nbformat": 4
 },
 "nbformat": 4,
 "nbformat_minor": 2
}
